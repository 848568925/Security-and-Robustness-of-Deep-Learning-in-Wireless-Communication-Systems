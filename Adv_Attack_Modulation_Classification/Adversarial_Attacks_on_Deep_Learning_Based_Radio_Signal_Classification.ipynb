{
 "cells": [
  {
   "cell_type": "markdown",
   "metadata": {},
   "source": [
    "# Important Note\n",
    "I promised to release the code for the paper but before doing so I moved to industry and hence I did not have time to prepare a clean implementation of the paper. But due to the interest from the comunity I am releasing the code for the paper. Unfortunately, the code is **OLD**, **dirty** and looks like a hack. So please bear with it.\n",
    "\n",
    "\n",
    "I try to update the code and provide a nice, readble, and easy to develop one in future, without any promis on the delivery date.\n",
    "\n",
    "Thank you for your interest."
   ]
  },
  {
   "cell_type": "code",
   "execution_count": null,
   "metadata": {},
   "outputs": [],
   "source": []
  }
 ],
 "metadata": {
  "kernelspec": {
   "display_name": "Python 3",
   "language": "python",
   "name": "python3"
  },
  "language_info": {
   "codemirror_mode": {
    "name": "ipython",
    "version": 3
   },
   "file_extension": ".py",
   "mimetype": "text/x-python",
   "name": "python",
   "nbconvert_exporter": "python",
   "pygments_lexer": "ipython3",
   "version": "3.7.3"
  }
 },
 "nbformat": 4,
 "nbformat_minor": 2
}
